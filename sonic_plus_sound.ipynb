{
 "cells": [
  {
   "cell_type": "code",
   "execution_count": 9,
   "metadata": {},
   "outputs": [
    {
     "name": "stdout",
     "output_type": "stream",
     "text": [
      "User interrupted\n"
     ]
    }
   ],
   "source": [
    "#!/usr/bin/env python\n",
    "import RPi.GPIO as GPIO\n",
    "import time\n",
    "import subprocess\n",
    "\n",
    "TRIG = 11\n",
    "ECHO = 12\n",
    "pid = False  # Store the sound process\n",
    "MIN_V = 45\n",
    "MAX_V = 80\n",
    "MIN_T = 0.00011764705\n",
    "MAX_T = 0.02352941176\n",
    "\n",
    "def dur_to_vol(t):\n",
    "    return MAX_V - ((MAX_V - MIN_V) / (MAX_T - MIN_T))*t\n",
    "\n",
    "def sonic_sound_setup():\n",
    "    global pid\n",
    "    GPIO.setmode(GPIO.BOARD)\n",
    "    GPIO.setup(TRIG, GPIO.OUT)\n",
    "    GPIO.setup(ECHO, GPIO.IN)\n",
    "    pid = sound_proc(440)\n",
    "    set_volume(MIN_V)\n",
    "\n",
    "def sound_proc(freq):\n",
    "    return subprocess.Popen(['speaker-test', '--frequency', str(freq), '--test', 'sine'])\n",
    "\n",
    "def duration():\n",
    "    GPIO.output(TRIG, 0)\n",
    "    time.sleep(0.000002)\n",
    "    GPIO.output(TRIG, 1)\n",
    "    time.sleep(0.00001)\n",
    "    GPIO.output(TRIG, 0)\n",
    "    while GPIO.input(ECHO) == 0: pass\n",
    "    time1 = time.time()\n",
    "    while GPIO.input(ECHO) == 1: pass\n",
    "    time2 = time.time()\n",
    "    t = time2 - time1\n",
    "    if (MIN_T < t < MAX_T): return t \n",
    "    else: return False\n",
    "\n",
    "def set_volume(percent):\n",
    "    subprocess.call(['amixer', 'set', 'PCM', str.format('{}%', percent)])\n",
    "\n",
    "if __name__ == \"__main__\":\n",
    "    try:\n",
    "        sonic_sound_setup()\n",
    "        while True:\n",
    "            t = duration()\n",
    "            if t:\n",
    "                v = dur_to_vol(t)\n",
    "                set_volume(v)\n",
    "            else:\n",
    "                pass\n",
    "            time.sleep(0.1)  # Gotta sleep to stop this from being pre-empted\n",
    "            \n",
    "    except KeyboardInterrupt:\n",
    "        print('User interrupted')\n",
    "    finally:\n",
    "        GPIO.cleanup()\n",
    "        pid.kill()"
   ]
  }
 ],
 "metadata": {
  "kernelspec": {
   "display_name": "Python 3",
   "language": "python",
   "name": "python3"
  },
  "language_info": {
   "codemirror_mode": {
    "name": "ipython",
    "version": 3
   },
   "file_extension": ".py",
   "mimetype": "text/x-python",
   "name": "python",
   "nbconvert_exporter": "python",
   "pygments_lexer": "ipython3",
   "version": "3.5.3"
  }
 },
 "nbformat": 4,
 "nbformat_minor": 2
}
