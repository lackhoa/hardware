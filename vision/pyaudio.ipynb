{
 "cells": [
  {
   "cell_type": "code",
   "execution_count": 41,
   "metadata": {},
   "outputs": [
    {
     "name": "stdout",
     "output_type": "stream",
     "text": [
      "3 2 1\n",
      "Go\n",
      "Hello\n",
      "Darkness\n",
      "My old friend\n"
     ]
    }
   ],
   "source": [
    "import pyaudio\n",
    "import numpy as np\n",
    "import time\n",
    "\n",
    "p = pyaudio.PyAudio()\n",
    "\n",
    "volume = 0.3     # range [0.0, 1.0]\n",
    "fs = 5000       # sampling rate, Hz, must be integer\n",
    "duration = 10   # in seconds, may be float\n",
    "f = 880        # sine frequency, Hz, may be float\n",
    "\n",
    "# generate samples, note conversion to float32 array\n",
    "samples = (np.sin(2*np.pi*np.arange(fs*duration)*f/fs)).astype(np.float32)\n",
    "\n",
    "# for paFloat32 sample values must be in range [-1.0, 1.0]\n",
    "stream = p.open(format=pyaudio.paFloat32,\n",
    "                channels=1,\n",
    "                rate=fs,\n",
    "                output=True,)\n",
    "\n",
    "# play. May repeat with different volume values (if done interactively)\n",
    "print(\"3 2 1\")\n",
    "stream.write(volume*samples)\n",
    "print(\"Go\")\n",
    "\n",
    "print(\"Hello\")\n",
    "stream.stop_stream()\n",
    "print(\"Darkness\")\n",
    "stream.close()\n",
    "print(\"My old friend\")\n",
    "\n",
    "p.terminate()\n",
    "\n"
   ]
  }
 ],
 "metadata": {
  "kernelspec": {
   "display_name": "Python 3",
   "language": "python",
   "name": "python3"
  },
  "language_info": {
   "codemirror_mode": {
    "name": "ipython",
    "version": 3
   },
   "file_extension": ".py",
   "mimetype": "text/x-python",
   "name": "python",
   "nbconvert_exporter": "python",
   "pygments_lexer": "ipython3",
   "version": "3.5.3"
  }
 },
 "nbformat": 4,
 "nbformat_minor": 2
}
