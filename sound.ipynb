{
 "cells": [
  {
   "cell_type": "code",
   "execution_count": 1,
   "metadata": {},
   "outputs": [
    {
     "name": "stdout",
     "output_type": "stream",
     "text": [
      "4.5\n",
      "5\n",
      "6\n",
      "User Interrupted\n"
     ]
    }
   ],
   "source": [
    "import subprocess\n",
    "import time\n",
    "MIN_F = 70\n",
    "MAX_F = 7000\n",
    "MIN_V = 45\n",
    "MAX_V = 80\n",
    "\n",
    "def set_volume(percent):\n",
    "    subprocess.call(['amixer', 'set', 'PCM', str.format('{}%', percent)])\n",
    "\n",
    "def sound_proc(freq):\n",
    "    return subprocess.Popen(['speaker-test', '--frequency', str(freq), '--test', 'sine'])\n",
    "\n",
    "if __name__ == \"__main__\":\n",
    "    try:\n",
    "        proc = sound_proc(440)\n",
    "        for i in range(4, 9):\n",
    "            if(i == 4): i = 4.5\n",
    "            print(i)\n",
    "            set_volume(10*i)\n",
    "            time.sleep(2)\n",
    "    except:\n",
    "        print(\"User Interrupted\")\n",
    "    finally:\n",
    "        proc.kill()"
   ]
  }
 ],
 "metadata": {
  "kernelspec": {
   "display_name": "Python 3",
   "language": "python",
   "name": "python3"
  },
  "language_info": {
   "codemirror_mode": {
    "name": "ipython",
    "version": 3
   },
   "file_extension": ".py",
   "mimetype": "text/x-python",
   "name": "python",
   "nbconvert_exporter": "python",
   "pygments_lexer": "ipython3",
   "version": "3.5.3"
  }
 },
 "nbformat": 4,
 "nbformat_minor": 2
}
