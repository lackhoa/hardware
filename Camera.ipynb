{
 "cells": [
  {
   "cell_type": "code",
   "execution_count": 2,
   "metadata": {
    "scrolled": false
   },
   "outputs": [
    {
     "name": "stdout",
     "output_type": "stream",
     "text": [
      "dimgray dimgray dimgray dimgray dimgray dimgray midnightblue midnightblue midnightblue midnightblue darkslategrey black black black darkkhaki dimgray darkslategrey darkslategrey dimgray darkkhaki grey dimgray dimgray dimgray darkkhaki darkkhaki rosybrown grey black dimgray black black black darkslategrey darkslategrey grey indianred sienna sienna sienna dimgray dimgray rosybrown rosybrown grey grey dimgray darkolivegreen darkslategrey darkslategrey darkolivegreen black black black black black black tan dimgray darkkhaki darkgrey darkgrey darkseagreen grey grey grey dimgray dimgray darkslategrey dimgray dimgray dimgray dimgray dimgray dimgray dimgray dimgray dimgray grey dimgray dimgray dimgray dimgray grey grey grey dimgray grey darkslategrey darkslategrey darkslateblue midnightblue darkslateblue midnightblue darkslateblue darkslateblue darkslateblue sienna peru peru peru peru sienna dimgray dimgray dimgray dimgray darkolivegreen grey grey grey grey grey dimgray dimgray dimgray dimgray dimgray darkolivegreen darkolivegreen black black black black black saddlebrown peru black darkslategrey darkslategrey darkslategrey darkslategrey darkslategrey darkslategrey darkslategrey black "
     ]
    },
    {
     "ename": "KeyboardInterrupt",
     "evalue": "",
     "output_type": "error",
     "traceback": [
      "\u001b[0;31m---------------------------------------------------------------------------\u001b[0m",
      "\u001b[0;31mKeyboardInterrupt\u001b[0m                         Traceback (most recent call last)",
      "\u001b[0;32m<ipython-input-2-d2c1bf56f003>\u001b[0m in \u001b[0;36m<module>\u001b[0;34m()\u001b[0m\n\u001b[1;32m     32\u001b[0m             \u001b[0mcamera\u001b[0m\u001b[0;34m.\u001b[0m\u001b[0mcapture\u001b[0m\u001b[0;34m(\u001b[0m\u001b[0mimg_output\u001b[0m\u001b[0;34m,\u001b[0m \u001b[0;34m'rgb'\u001b[0m\u001b[0;34m)\u001b[0m\u001b[0;34m\u001b[0m\u001b[0m\n\u001b[1;32m     33\u001b[0m             \u001b[0mprint\u001b[0m\u001b[0;34m(\u001b[0m\u001b[0mget_colour_name\u001b[0m\u001b[0;34m(\u001b[0m\u001b[0mavg_color\u001b[0m\u001b[0;34m(\u001b[0m\u001b[0mimg_output\u001b[0m\u001b[0;34m)\u001b[0m\u001b[0;34m)\u001b[0m\u001b[0;34m,\u001b[0m \u001b[0mend\u001b[0m\u001b[0;34m=\u001b[0m\u001b[0;34m' '\u001b[0m\u001b[0;34m)\u001b[0m\u001b[0;34m\u001b[0m\u001b[0m\n\u001b[0;32m---> 34\u001b[0;31m             \u001b[0mtime\u001b[0m\u001b[0;34m.\u001b[0m\u001b[0msleep\u001b[0m\u001b[0;34m(\u001b[0m\u001b[0;36m0.1\u001b[0m\u001b[0;34m)\u001b[0m\u001b[0;34m\u001b[0m\u001b[0m\n\u001b[0m",
      "\u001b[0;31mKeyboardInterrupt\u001b[0m: "
     ]
    }
   ],
   "source": [
    "import picamera\n",
    "import time\n",
    "import numpy as np\n",
    "import webcolors\n",
    "\n",
    "def closest_colour(requested_colour):\n",
    "    min_colours = {}\n",
    "    for key, name in webcolors.css3_hex_to_names.items():\n",
    "        r_c, g_c, b_c = webcolors.hex_to_rgb(key)\n",
    "        rd = (r_c - requested_colour[0]) ** 2\n",
    "        gd = (g_c - requested_colour[1]) ** 2\n",
    "        bd = (b_c - requested_colour[2]) ** 2\n",
    "        min_colours[(rd + gd + bd)] = name\n",
    "    return min_colours[min(min_colours.keys())]\n",
    "\n",
    "def get_colour_name(requested_colour):\n",
    "    try:\n",
    "        closest_name = webcolors.rgb_to_name(requested_colour)\n",
    "    except ValueError:\n",
    "        closest_name = closest_colour(requested_colour)\n",
    "    return closest_name\n",
    "\n",
    "def avg_color(rgb_array):\n",
    "    return np.around( np.mean(rgb_array, axis=(0, 1)) )\n",
    "\n",
    "if __name__ == \"__main__\":\n",
    "    img_output = np.empty((240, 320, 3), dtype=np.uint8)\n",
    "    with picamera.PiCamera() as camera:\n",
    "        camera.resolution = (320, 240)\n",
    "        time.sleep(2)\n",
    "        while True:\n",
    "            camera.capture(img_output, 'rgb')\n",
    "            print(get_colour_name(avg_color(img_output)), end=' ')\n",
    "            time.sleep(0.1)"
   ]
  }
 ],
 "metadata": {
  "kernelspec": {
   "display_name": "Python 3",
   "language": "python",
   "name": "python3"
  },
  "language_info": {
   "codemirror_mode": {
    "name": "ipython",
    "version": 3
   },
   "file_extension": ".py",
   "mimetype": "text/x-python",
   "name": "python",
   "nbconvert_exporter": "python",
   "pygments_lexer": "ipython3",
   "version": "3.5.3"
  }
 },
 "nbformat": 4,
 "nbformat_minor": 2
}
